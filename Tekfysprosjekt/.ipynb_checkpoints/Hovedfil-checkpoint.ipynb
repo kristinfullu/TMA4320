{
 "cells": [
  {
   "cell_type": "markdown",
   "metadata": {
    "cell_id": "6918df66a9ba434f889f3f27c3dd609f",
    "deepnote_cell_type": "markdown",
    "tags": []
   },
   "source": [
    "Medvirkende: Hedda Bjørnstad, Julie Marie Ervik og Kristin Fullu"
   ]
  },
  {
   "cell_type": "markdown",
   "metadata": {
    "cell_id": "d5e9756683404da1b2415900ca8b0303",
    "deepnote_cell_type": "markdown",
    "tags": []
   },
   "source": [
    "# Damptrykk for $H_2O$"
   ]
  },
  {
   "cell_type": "code",
   "execution_count": 1,
   "metadata": {
    "cell_id": "6d3d184e46034ef38846c3f01e266670",
    "deepnote_cell_type": "code",
    "deepnote_to_be_reexecuted": false,
    "execution_millis": 1017,
    "execution_start": 1679390237273,
    "source_hash": "d2d3f4db",
    "tags": []
   },
   "outputs": [],
   "source": [
    "#Importerer bibliotekene vi trenger i oppgaven\n",
    "import numpy as np\n",
    "import matplotlib.pyplot as plt\n",
    "import math"
   ]
  },
  {
   "cell_type": "markdown",
   "metadata": {
    "cell_id": "eedf5c00c49c4916841ae6dffcca6ea0",
    "deepnote_cell_type": "markdown",
    "tags": []
   },
   "source": [
    "## Oppgave 1"
   ]
  },
  {
   "cell_type": "markdown",
   "metadata": {
    "cell_id": "f63ab63a2e74433da17c4d76d9605123",
    "deepnote_cell_type": "markdown",
    "tags": []
   },
   "source": [
    "### Oppgave 1 a)"
   ]
  },
  {
   "cell_type": "markdown",
   "metadata": {
    "cell_id": "72cdba24a0a94b5e8e20512b730a79d6",
    "deepnote_cell_type": "markdown",
    "tags": []
   },
   "source": [
    "Van der Waals tilstandsligning er gitt ved $$p = \\frac{RT}{V-b}-\\frac{a}{V^2}.$$ Fra side 4 i prosjektbeskrivelsen har vi at $$ a = \\frac{27R^2T_c^2}{64p_c}$$ og $$ b= \\frac{RT_c}{8p_c}$$. Vi har også fått oppgitt de eksperimentelle verdiene $T_c = 647.096 K$ , $p_c = 22.064 MPa$ og $V_c = 55.948 mL$ for $H_2O$. Vi kan fra dette regne ut $a$ og $b$. \n",
    "\n",
    "Vi vil også regne ut kritisk molart volum, gitt ved $V_c = 3b$. \n",
    "\n",
    "\n",
    "Vi observerer at den utregnede verdien for $V_c$ ikke stemmer overens med den eksperimentelle. FORKLAR HVORFOR!!!!\n"
   ]
  },
  {
   "cell_type": "markdown",
   "metadata": {
    "cell_id": "816d5307b2454f17b19b3d29d7c146ac",
    "deepnote_cell_type": "markdown",
    "tags": []
   },
   "source": [
    "Bestem van der Waals-parametrene a og b med utgangspunkt i pc og Tc, eller finn\n",
    "a og b direkte i litteraturen. Pass p˚a enheter. Regn ut kritisk molart volum Vc = 3b og\n",
    "sammenlign med eksperimentell verdi.\n",
    "\n",
    "Ved å sette inn disse verdiene i uttrykkene for a og b får vi\n",
    "$$a = 553.5 \\frac{kPa L^{2}}{mol^{2}}$$\n",
    "\n",
    "$$b = 0.03048 \\frac{J}{molPa}$$\n",
    "\n",
    "Hvor gasskonstanten er gitt ved $R = 8.3145 \\frac{L kPa}{mol K}$\n",
    "Kilde: https://no.wikipedia.org/wiki/Gasskonstant\n",
    "\n",
    "Eksperimentelle verdier for a og b er gitt ved\n",
    "$$a = 553.7 \\frac{kPa L^{2}}{mol^{2}}$$\n",
    "$$b = 0.03049 \\frac{L}{mol}$$\n",
    "Kilde: https://www.engineeringtoolbox.com/non-ideal-gas-van-der-Waals-equation-constants-gas-law-d_1969.html\n",
    "\n",
    "Regner så ut kristisk verdi med den utregnede verdien for b \n",
    "$$V_{c} = 0.09144 \\frac{L}{mol}$$\n",
    "\n",
    "Sammenligner med eksperimentell verdi for kritisk volum\n",
    "$$V_{c} = $$"
   ]
  },
  {
   "cell_type": "markdown",
   "metadata": {
    "cell_id": "edcd82014a4e422dbc21b9598f9818fd",
    "deepnote_cell_type": "markdown",
    "tags": []
   },
   "source": [
    "### Oppgave 1 b)\n"
   ]
  },
  {
   "cell_type": "markdown",
   "metadata": {
    "cell_id": "0a8ee01749f4434f8d1e03c05f38fe7b",
    "deepnote_cell_type": "markdown",
    "tags": []
   },
   "source": [
    "Vi vil her plotte $p(V)$ vha. van der Waals tilstandsligning, og med $T = T_c$."
   ]
  },
  {
   "cell_type": "code",
   "execution_count": 2,
   "metadata": {
    "cell_id": "5bdaeb9c3b6f44bdaa4c83cf83a6a59d",
    "deepnote_cell_type": "code",
    "deepnote_to_be_reexecuted": false,
    "execution_millis": 299,
    "execution_start": 1679390241640,
    "source_hash": "123db2d1",
    "tags": []
   },
   "outputs": [
    {
     "data": {
      "image/png": "[encoded data removed]",
      "text/plain": [
       "<Figure size 640x480 with 1 Axes>"
      ]
     },
     "metadata": {},
     "output_type": "display_data"
    }
   ],
   "source": [
    "r = 8.3145   #L*kPa/K mol\n",
    "a = 5.535*10**(3)   #L^2 kPa/mol^2\n",
    "b = 30.4811 #J/mol Pa\n",
    "t = 647.096 #K\n",
    "\n",
    "def vdW(minV,maxV):\n",
    "    volumes = np.arange(minV, maxV,1)\n",
    "    p = (r*t)/(volumes-b)-a/(volumes**2)\n",
    "    return p, volumes\n",
    "\n",
    "\n",
    "p, v = vdW(75,300)\n",
    "\n",
    "plt.plot(v,p)\n",
    "plt.xlabel(\"Volum, mL\")\n",
    "plt.ylabel(\"Trykk, Pa (IKKE RIKTIG AKSE)\")\n",
    "plt.show()"
   ]
  },
  {
   "cell_type": "markdown",
   "metadata": {
    "cell_id": "6440507d8558454fb04b8fe1844d9cce",
    "deepnote_cell_type": "markdown",
    "tags": []
   },
   "source": [
    "Beskriv den kvalitative forskjellen på denne isotermen og isotermen under"
   ]
  },
  {
   "cell_type": "markdown",
   "metadata": {
    "cell_id": "92f805712f4447c3baa1c5f05b2428b5",
    "deepnote_cell_type": "markdown",
    "tags": []
   },
   "source": [
    "![Picture title](image-20230316-144959.png)"
   ]
  },
  {
   "cell_type": "markdown",
   "metadata": {
    "cell_id": "e2fa47f612cf4bcbafdf7a5434d8a50a",
    "deepnote_cell_type": "markdown",
    "tags": []
   },
   "source": [
    "### Oppgave 1 c)"
   ]
  },
  {
   "cell_type": "code",
   "execution_count": 4,
   "metadata": {
    "cell_id": "e6a9fa2dde844b1b89a768b868ca5c1a",
    "deepnote_cell_type": "code",
    "deepnote_to_be_reexecuted": false,
    "execution_millis": 5,
    "execution_start": 1679390247994,
    "source_hash": "48530531",
    "tags": []
   },
   "outputs": [],
   "source": [
    "def ligning14(t): # setter uttrykket lik 0\n",
    "    return (np.sinh((2)/t)**2) - 1\n",
    "\n",
    "def ligning14Der(t): \n",
    "    return (2*np.cosh(2/t)*np.sinh(2/t))/t\n",
    "\n",
    "def ligning15(t):\n",
    "    return 2/(np.log(1+np.sqrt(2)))"
   ]
  },
  {
   "cell_type": "code",
   "execution_count": 5,
   "metadata": {
    "cell_id": "5afaba265ad5488b99e906ca30ef11f2",
    "deepnote_cell_type": "code",
    "deepnote_to_be_reexecuted": false,
    "execution_millis": 2,
    "execution_start": 1679390429172,
    "source_hash": "11c14361",
    "tags": []
   },
   "outputs": [
    {
     "name": "stderr",
     "output_type": "stream",
     "text": [
      "C:\\Users\\krist\\AppData\\Local\\Temp\\ipykernel_29532\\174241028.py:2: RuntimeWarning: overflow encountered in double_scalars\n",
      "  return (np.sinh((2)/t)**2) - 1\n",
      "C:\\Users\\krist\\AppData\\Local\\Temp\\ipykernel_29532\\174241028.py:5: RuntimeWarning: overflow encountered in double_scalars\n",
      "  return (2*np.cosh(2/t)*np.sinh(2/t))/t\n",
      "C:\\Users\\krist\\AppData\\Local\\Temp\\ipykernel_29532\\92016073.py:11: RuntimeWarning: invalid value encountered in double_scalars\n",
      "  x[i+1] = x[i] - f(x[i])/fDer(x[i])\n"
     ]
    },
    {
     "ename": "TypeError",
     "evalue": "unhashable type: 'numpy.ndarray'",
     "output_type": "error",
     "traceback": [
      "\u001b[1;31m---------------------------------------------------------------------------\u001b[0m",
      "\u001b[1;31mTypeError\u001b[0m                                 Traceback (most recent call last)",
      "\u001b[1;32m~\\AppData\\Local\\Temp\\ipykernel_29532\\92016073.py\u001b[0m in \u001b[0;36m<module>\u001b[1;34m\u001b[0m\n\u001b[0;32m     15\u001b[0m     \u001b[1;32mreturn\u001b[0m \u001b[0mx\u001b[0m\u001b[1;33m[\u001b[0m\u001b[1;33m:\u001b[0m\u001b[0mi\u001b[0m\u001b[1;33m]\u001b[0m \u001b[1;31m# for å ikke få med masse nuller på slutten\u001b[0m\u001b[1;33m\u001b[0m\u001b[1;33m\u001b[0m\u001b[0m\n\u001b[0;32m     16\u001b[0m \u001b[1;33m\u001b[0m\u001b[0m\n\u001b[1;32m---> 17\u001b[1;33m \u001b[0mt\u001b[0m \u001b[1;33m=\u001b[0m \u001b[1;33m{\u001b[0m\u001b[0mnewton\u001b[0m\u001b[1;33m(\u001b[0m\u001b[1;36m1\u001b[0m\u001b[1;33m,\u001b[0m\u001b[0mligning14\u001b[0m\u001b[1;33m,\u001b[0m\u001b[0mligning14Der\u001b[0m\u001b[1;33m,\u001b[0m\u001b[1;36m600\u001b[0m\u001b[1;33m,\u001b[0m\u001b[1;36m6\u001b[0m\u001b[1;33m)\u001b[0m\u001b[1;33m}\u001b[0m\u001b[1;33m\u001b[0m\u001b[1;33m\u001b[0m\u001b[0m\n\u001b[0m",
      "\u001b[1;31mTypeError\u001b[0m: unhashable type: 'numpy.ndarray'"
     ]
    }
   ],
   "source": [
    "def newton(x0, f , fDer, maxIter, tol):\n",
    "    \n",
    "    # Lagger en array\n",
    "    x = []\n",
    "    \n",
    "    # Startverdier\n",
    "    x.append()\n",
    "    \n",
    "    i = 0\n",
    "    while (((x[i] - x[i-1]) > tol) or (i < maxIter-1)):\n",
    "        x[i+1] = x[i] - f(x[i])/fDer(x[i])\n",
    "        i += 1\n",
    "        \n",
    "            \n",
    "    return x[:i] # for å ikke få med masse nuller på slutten\n",
    "\n",
    "t = {newton(1,ligning14,ligning14Der,600,6)}"
   ]
  },
  {
   "cell_type": "markdown",
   "metadata": {
    "cell_id": "a6b51005b4114dbda5fd0cfd6ae12dcf",
    "deepnote_cell_type": "markdown",
    "tags": []
   },
   "source": [
    "Ligning (14) som skal brukes i 1 c): $sinh^2(\\frac{2c}{T_c}) = 1$\n",
    "\n",
    "Ser ut som det stemmer ganske bra med løsningen, men vet ikke helt om jeg har gjort det rett? Skal vi ta inn en verdi for T_c?\n",
    "\n",
    "Løsningen er $T_c = \\frac{2c}{\\ln(1+\\sqrt2)}$"
   ]
  },
  {
   "cell_type": "markdown",
   "metadata": {
    "cell_id": "34d60c15fd7148a0a8f1535f7dfff0f7",
    "deepnote_cell_type": "markdown",
    "tags": []
   },
   "source": [
    "### Oppgave 1 d)"
   ]
  },
  {
   "cell_type": "markdown",
   "metadata": {
    "cell_id": "93523b9c9b674ebda88d11f43161e4f7",
    "deepnote_cell_type": "markdown",
    "tags": []
   },
   "source": [
    "Her skal vi beregne $e_{i}$ basert på $x_{i}$ fra forrige deloppgave. Skal bruke ligning (17) på en hensiktsmessig måte for å anslå $q$. Ligning (17) er gitt ved\n",
    "\n",
    "$$\n",
    "p_{i} = \\frac{\\log \\frac{e_{i}}{e_{i-1}}}{\\log \\frac{e_{i-1}}{e_{i-2}}}\n",
    "$$\n",
    "\n",
    "Denne vil gå mot konvergensorden $q$ gitt følgen $x_{i}$."
   ]
  },
  {
   "cell_type": "code",
   "execution_count": 4,
   "metadata": {
    "cell_id": "320b04d738c2464ba9eeb8789bfc9952",
    "deepnote_cell_type": "code",
    "deepnote_to_be_reexecuted": false,
    "execution_millis": 588,
    "execution_start": 1679387202277,
    "source_hash": "e9d23c57",
    "tags": []
   },
   "outputs": [
    {
     "ename": "NameError",
     "evalue": "name 'x0' is not defined",
     "output_type": "error",
     "traceback": [
      "\u001b[0;31m---------------------------------------------------------------------------\u001b[0m",
      "\u001b[0;31mNameError\u001b[0m                                 Traceback (most recent call last)",
      "Cell \u001b[0;32mIn [4], line 1\u001b[0m\n\u001b[0;32m----> 1\u001b[0m xi \u001b[38;5;241m=\u001b[39m newton(\u001b[43mx0\u001b[49m,f,fDer,maxIter,tol)\n",
      "\u001b[0;31mNameError\u001b[0m: name 'x0' is not defined"
     ]
    }
   ],
   "source": [
    "xi = newton(x0,f,fDer,maxIter,tol)"
   ]
  },
  {
   "cell_type": "markdown",
   "metadata": {
    "created_in_deepnote_cell": true,
    "deepnote_cell_type": "markdown",
    "tags": []
   },
   "source": [
    "<a style='text-decoration:none;line-height:16px;display:flex;color:#5B5B62;padding:10px;justify-content:end;' href='https://deepnote.com?utm_source=created-in-deepnote-cell&projectId=26fc84a5-0457-41ee-ad60-ebe0009a171f' target=\"_blank\">\n",
    "<img alt='Created in deepnote.com' style='display:inline;max-height:16px;margin:0px;margin-right:7.5px;' src='data:image/svg+xml;base64,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' > </img>\n",
    "Created in <span style='font-weight:600;margin-left:4px;'>Deepnote</span></a>"
   ]
  }
 ],
 "metadata": {
  "deepnote": {},
  "deepnote_execution_queue": [],
  "deepnote_notebook_id": "9b56a38ed72144348438e242958be0bc",
  "deepnote_persisted_session": {
   "createdAt": "2023-03-21T08:46:30.671Z"
  },
  "kernelspec": {
   "display_name": "Python 3 (ipykernel)",
   "language": "python",
   "name": "python3"
  },
  "language_info": {
   "codemirror_mode": {
    "name": "ipython",
    "version": 3
   },
   "file_extension": ".py",
   "mimetype": "text/x-python",
   "name": "python",
   "nbconvert_exporter": "python",
   "pygments_lexer": "ipython3",
   "version": "3.9.13"
  }
 },
 "nbformat": 4,
 "nbformat_minor": 1
}
