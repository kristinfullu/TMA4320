{
 "cells": [
  {
   "cell_type": "markdown",
   "metadata": {
    "cell_id": "7f19b2334ad7440aa93bb3512ce1e0e8",
    "deepnote_cell_type": "text-cell-h1",
    "formattedRanges": [],
    "is_collapsed": false,
    "tags": []
   },
   "source": [
    "# Oppgave 1"
   ]
  },
  {
   "cell_type": "code",
   "execution_count": 12,
   "metadata": {
    "cell_id": "f5d1c27f0a5941e394e91fa2adc0c7e5",
    "deepnote_cell_type": "code",
    "deepnote_to_be_reexecuted": false,
    "execution_millis": 0,
    "execution_start": 1677241460075,
    "source_hash": "5cd52a16",
    "tags": []
   },
   "outputs": [],
   "source": [
    "# Importing all libraries we need\n",
    "import numpy as np\n",
    "import matplotlib.pyplot as plt\n",
    "import random"
   ]
  },
  {
   "cell_type": "markdown",
   "metadata": {
    "cell_id": "704f8f412cb74202b4513606653bc92b",
    "deepnote_cell_type": "markdown",
    "tags": []
   },
   "source": [
    "### Oppgave 1 a)"
   ]
  },
  {
   "cell_type": "markdown",
   "metadata": {
    "cell_id": "cfe65d359a974f74ad05decfb2b7654d",
    "deepnote_cell_type": "markdown",
    "tags": []
   },
   "source": [
    "I denne kodeblokka regnes $A_1$ = $U \\Sigma V^T$ ut ved hjelp av np.linalg.svd. Printingen av resultatet vil hjelpe med å bestemme hvilken av  basisvektorene i $W_1 = U$ som er viktigst for å rekonstruere $A_1$\n",
    "\n",
    "U, Σ and V is sorted by how much it contributes to the matrix A in the product. That enables us to get quite a good approximation by simply using only the most important parts of the matrices.\n",
    "Kilde: http://timbaumann.info/svd-image-compression-demo/"
   ]
  },
  {
   "cell_type": "code",
   "execution_count": 13,
   "metadata": {
    "cell_id": "83c34bb647654eada405c766eb99e1b3",
    "deepnote_cell_type": "code",
    "deepnote_to_be_reexecuted": false,
    "execution_millis": 17,
    "execution_start": 1677241462174,
    "source_hash": "e9af889d",
    "tags": []
   },
   "outputs": [
    {
     "name": "stdout",
     "output_type": "stream",
     "text": [
      "U:\n",
      "[[ 1.e+00 -1.e-06]\n",
      " [ 1.e-06  1.e+00]\n",
      " [ 0.e+00  0.e+00]]\n",
      "Σ:\n",
      "[1.0000005e+03 9.9999950e-01]\n",
      "vᵀ:\n",
      "[[ 0.9999995  0.001    ]\n",
      " [-0.001      0.9999995]]\n",
      "Gjenskapt A₁: \n",
      "[[ 1.00000000e+03  1.00000000e+00]\n",
      " [-2.18499053e-19  1.00000000e+00]\n",
      " [ 0.00000000e+00  0.00000000e+00]]\n"
     ]
    }
   ],
   "source": [
    "import numpy as np\n",
    "\n",
    "A1 = np.array([[1000, 1], [0, 1], [0, 0]])\n",
    "\n",
    "U_1, sigma_1, vT_1 = np.linalg.svd(A1, full_matrices = False)\n",
    "\n",
    "print('U:')\n",
    "print(U_1)\n",
    "print('Σ:')\n",
    "print(sigma_1) # får en vektor, ikke matrise, bare diagonal elementene\n",
    "print('v\\u1D40:')\n",
    "print(vT_1)\n",
    "\n",
    "A1_matrise = np.dot(U_1 * sigma_1, vT_1) # må slice med shape til sigma, reduced SVD\n",
    "print(\"Gjenskapt A\\u2081: \")\n",
    "print(A1_matrise)"
   ]
  },
  {
   "cell_type": "markdown",
   "metadata": {
    "cell_id": "d64aee94cc94474897c4b56d4397c695",
    "deepnote_cell_type": "text-cell-p",
    "formattedRanges": [],
    "is_collapsed": false,
    "tags": []
   },
   "source": [
    "Which\n",
    " of the basis vectors in the dictionary W1 = U is the most important for reconstructing A1?"
   ]
  },
  {
   "cell_type": "markdown",
   "metadata": {
    "cell_id": "59521add-1d7d-40f7-990e-0e041f44dacf",
    "deepnote_cell_type": "text-cell-p",
    "formattedRanges": [],
    "is_collapsed": false,
    "tags": []
   },
   "source": [
    "Den viktigste basisvektoren i U for å rekonstruere A1 er den venstre kolonnen. Dette er fordi informasjon går bort når vi regner ut SVD til en matrise. Den fungerer slik at vektoren 'Sigma' vi får ut, inneholder verdier fra høyest til lavest. U inneholder vektorene som tilsvarer disse verdiene, fra venstre side. Så når vi f.eks utfører 'reduced SVD' vil vi fjerne alle nullene, slik at U vil 'miste' de kollonenne helt til høyre, avhengig av hvilke verdier den inneholder. Når vi så utfører 'truncated SVD', vil vi da fjerne de kolonnene som inneholder nullere og veldig lave verdier, og vil til slutt bestå av den venstre basisvektoren som inneholder de 'viktigste' verdiene (MÅ ENDRES MYE PÅ)"
   ]
  },
  {
   "cell_type": "markdown",
   "metadata": {
    "cell_id": "5848db7852794be88903ce7c0e4fc47c",
    "deepnote_cell_type": "markdown",
    "tags": []
   },
   "source": [
    "Den viktigste basisvektoren i U for å rekonstruere $A_1$ er vektoren som befinner seg i venstre kolonne. Dette henger sammen med at informasjon går tapt når man regner ut SVD av en matrise. Dekomponeringen fungerer slik at vektoren $\\Sigma$ som returneres inneholder verdier fra høyest til lavest (REFERER TIL 2.1.2 I PROSJEKTBESKRIVELSEN). Dette stemmer overens med $\\Sigma$ vi har fått i blokken over. $U$ inneholder vektorene (kolonnene) som samsvarer med disse verdiene i $\\Sigma$, fra venstre mot høyre. Dermed vil man ved utføring av \"reduced SVD\", som fjerner alle nullene i $\\Sigma$, først miste kolonner til høyre i $U$, ettersom disse samsvarer med elementene i $\\Sigma$ som eventuelt inneholder en null. Når man så utfører \"truncated SVD\", fjernes verdiene i $\\Sigma$ som befinner seg under en lav, selvbestemt grense. Disse samsvarer også med vektorer til høyre i $U$, og man ser derfor at de vektorene som bidrar mest til å rekonstruere $A_1$ er de som befinner seg lengst til venstre i $U$.\n",
    "\n",
    "Ved å se på den gjenskapte $A_1$ matrisa, bekrefter vi også at $A_1$ = $U \\Sigma V^T$. Verdi $a_{21}$ er tilnærmet lik null, men ikke helt lik på grunn av regnefeil i Python."
   ]
  },
  {
   "cell_type": "markdown",
   "metadata": {
    "cell_id": "615e0b33-1052-43ff-8817-364ed2e4f758",
    "deepnote_cell_type": "text-cell-p",
    "formattedRanges": [],
    "is_collapsed": false,
    "tags": []
   },
   "source": [
    "\n"
   ]
  },
  {
   "cell_type": "markdown",
   "metadata": {
    "cell_id": "6bce149a8c7f4568951966b75239fd3e",
    "deepnote_cell_type": "markdown",
    "tags": []
   },
   "source": [
    "### Oppgave 1 b)"
   ]
  },
  {
   "cell_type": "code",
   "execution_count": 14,
   "metadata": {
    "cell_id": "23a087b6dadc4294851bcdf7ebf9f4ae",
    "deepnote_cell_type": "code",
    "deepnote_to_be_reexecuted": false,
    "execution_millis": 6,
    "execution_start": 1677241472535,
    "source_hash": "635ff1b4",
    "tags": []
   },
   "outputs": [
    {
     "name": "stdout",
     "output_type": "stream",
     "text": [
      "U:\n",
      "[[-0.70710678  0.         -0.70710678]\n",
      " [-0.70710678  0.          0.70710678]\n",
      " [ 0.          1.          0.        ]]\n",
      "Σ:\n",
      "[1.41421356 1.         0.        ]\n",
      "vᵀ:\n",
      "[[-1. -0. -0.]\n",
      " [ 0.  0.  1.]\n",
      " [ 0.  1.  0.]]\n",
      "Gjenskapt A₂: \n",
      "[[1. 0. 0.]\n",
      " [1. 0. 0.]\n",
      " [0. 0. 1.]]\n"
     ]
    }
   ],
   "source": [
    "A2 = np.array([[1,0,0], [1,0,0], [0,0,1]])\n",
    "\n",
    "# Før reduksjon\n",
    "U_2, sigma_2, vT_2 = np.linalg.svd(A2, full_matrices = False)\n",
    "\n",
    "print('U:')\n",
    "print(U_2)\n",
    "print('Σ:')\n",
    "print(sigma_2)\n",
    "print('v\\u1D40:')\n",
    "print(vT_2)\n",
    "\n",
    "A2_matrise = np.dot(U_2 * sigma_2, vT_2) # må slice med shape til sigma\n",
    "print(\"Gjenskapt A\\u2082: \")\n",
    "print(A2_matrise)"
   ]
  },
  {
   "cell_type": "markdown",
   "metadata": {
    "cell_id": "6380c6ae628a496ca0d3248be41b9f8f",
    "deepnote_cell_type": "markdown",
    "tags": []
   },
   "source": [
    "Som i oppgave 1 a) er det ved å se at element 3 i $\\Sigma$ = 0 mulig å fastslå at vektor 3 i $U$ ikke inneholder nyttig informasjon for å gjenskape $A_2$. Dette kan også sees ved å se direkte på $U$, hvor vektor 1 og 3 er identiske.\n",
    "\n",
    "Dette tilsier at vektor 1 og 3 er lineært avhengige av hverandre, fordi man kan oppnå $k_1v_1 + k_2v_2 + k_3v_3 = 0$ selv om ikke de vilkårlige konstantene $k_1 = k_2 = k_3 = 0$\n",
    "\n",
    "Vi vet derfor at dersom vi benytter \"reduced SVD\" og fjerner vektor 3, vil ingen nyttig informasjon om $A_2$ gå tapt, og vi kan trygt rekonstruere den."
   ]
  },
  {
   "cell_type": "code",
   "execution_count": 15,
   "metadata": {
    "cell_id": "750ef08b9a91496b8c321a207d289507",
    "deepnote_cell_type": "code",
    "deepnote_to_be_reexecuted": false,
    "execution_millis": 8,
    "execution_start": 1677241475189,
    "source_hash": "48021cf",
    "tags": []
   },
   "outputs": [
    {
     "name": "stdout",
     "output_type": "stream",
     "text": [
      "U etter reduksjon:\n",
      "[[-0.70710678  0.        ]\n",
      " [-0.70710678  0.        ]\n",
      " [ 0.          1.        ]]\n",
      "Σ etter reduksjon:\n",
      "[1.41421356 1.        ]\n",
      "vᵀ etter reduksjon:\n",
      "[[-1. -0. -0.]\n",
      " [ 0.  0.  1.]]\n",
      "Gjenskapt A₂: \n",
      "[[1. 0. 0.]\n",
      " [1. 0. 0.]\n",
      " [0. 0. 1.]]\n"
     ]
    }
   ],
   "source": [
    "# Etter reduksjon\n",
    "'''\n",
    "np.delete():\n",
    "obj = indikerer hvilken kolonne/rad vi ønsker å gjøre noe med\n",
    "axis = indikerer om vi har rad eller kolonne\n",
    "'''\n",
    "U_2_red = np.delete(U_2, obj=2, axis=1)\n",
    "sigma_2_red = sigma_2[0:2] # vil ikke ha med siste element fordi den er 0\n",
    "vT_2_red = np.delete(vT_2, obj=2, axis=0)\n",
    "# 0 i sigma fjernen siste kolonne i U og siste rad i vT\n",
    "\n",
    "print('U etter reduksjon:')\n",
    "print(U_2_red)\n",
    "print('Σ etter reduksjon:')\n",
    "print(sigma_2_red)\n",
    "print('v\\u1D40 etter reduksjon:')\n",
    "print(vT_2_red)\n",
    "\n",
    "A2_matrise_red = np.dot(U_2_red * sigma_2_red, vT_2_red) # må slice med shape til sigma\n",
    "print('Gjenskapt A\\u2082: ')\n",
    "print(A2_matrise_red)\n",
    "# Ser at A2 blir den samme etter reduksjon"
   ]
  },
  {
   "cell_type": "markdown",
   "metadata": {
    "cell_id": "2968aa32de5c4a5684087afa59c82182",
    "deepnote_cell_type": "text-cell-p",
    "formattedRanges": [],
    "is_collapsed": false,
    "tags": []
   },
   "source": [
    "Does any of\n",
    " the basis vectors in U carry no relevant information about the matrix A2? "
   ]
  },
  {
   "cell_type": "markdown",
   "metadata": {
    "cell_id": "4cec70d5-dece-41fb-8101-1dff873d8726",
    "deepnote_cell_type": "text-cell-p",
    "formattedRanges": [],
    "is_collapsed": false,
    "tags": []
   },
   "source": [
    "Dette er avhengig av hva vektoren $\\Sigma$ gir. Vi ser at den siste verdien er 0, som vil si at den siste kolonnen i U vil forsvinne når matrisen reduseres. "
   ]
  },
  {
   "cell_type": "markdown",
   "metadata": {
    "cell_id": "abba09ff-67d2-4dba-ab71-8c94be5751f0",
    "deepnote_cell_type": "text-cell-p",
    "formattedRanges": [],
    "is_collapsed": false,
    "tags": []
   },
   "source": [
    "What\n",
    " does this say about the columns of A2? "
   ]
  },
  {
   "cell_type": "markdown",
   "metadata": {
    "cell_id": "376f8e7c-c797-4eed-bb27-16aecd8c9fe7",
    "deepnote_cell_type": "text-cell-p",
    "formattedRanges": [],
    "is_collapsed": false,
    "tags": []
   },
   "source": [
    "Siden vi har nullvektor i A2, som er lineært avhengig av de andre kolonnene (er bare å gange med 0 så får vi nullvektor), og U er basisvektor til A2, vet vi at vi kun vil ende opp med to basisvektorer, fordi det kun er to kolonner i A2 som er lineært uavhengige. Derfor gir det mening at vi 'fjerner' en kolonne i U, som vi også kan se i vektoren $\\Sigma$, der den siste egenverdien er 0. "
   ]
  },
  {
   "cell_type": "markdown",
   "metadata": {
    "cell_id": "79278907-f694-4d3b-91c6-fb7ab7fa881f",
    "deepnote_cell_type": "text-cell-p",
    "formattedRanges": [],
    "is_collapsed": false,
    "tags": []
   },
   "source": [
    "Use this to confirm that we can safely use\n",
    "a reduced SVD to obtain A2 = UdΣdV\n",
    "T\n",
    "d\n",
    "for a well-chosen d < 3. We then have a\n",
    "dictionary W2 = Ud."
   ]
  },
  {
   "cell_type": "markdown",
   "metadata": {
    "cell_id": "bfca08d7-240b-48a4-841f-6f656fb1ebea",
    "deepnote_cell_type": "text-cell-p",
    "formattedRanges": [],
    "is_collapsed": false,
    "tags": []
   },
   "source": [
    "Fordi..."
   ]
  },
  {
   "cell_type": "markdown",
   "metadata": {
    "cell_id": "cfbe98ad13f44479b8b31aead29aaea3",
    "deepnote_cell_type": "markdown",
    "tags": []
   },
   "source": [
    "Som nevnt i oppgavebeskrivelsen er det lurt å ha en egen funksjon for å trunkere SVD, ettersom dette skal gjøres mange ganger"
   ]
  },
  {
   "cell_type": "code",
   "execution_count": 16,
   "metadata": {
    "cell_id": "8ff4459bf53a4dd38bfbc03bb94ca5a5",
    "deepnote_cell_type": "code",
    "deepnote_to_be_reexecuted": false,
    "execution_millis": 3,
    "execution_start": 1677241477979,
    "source_hash": "e868f5e5",
    "tags": []
   },
   "outputs": [],
   "source": [
    "def truncSVD(U, Σ, V_T, d):\n",
    "    '''\n",
    "    Input: matriser U, Σ, V_T, heltall d\n",
    "    Output: dictionary W = U_d, weights H = Σ_d*V_d^T\n",
    "    '''\n",
    "    # V = [row, column]\n",
    "    Σ = Σ[:d] #slicer de de d første verdiene\n",
    "    V_T = V_T[:d, :] #slicer de d første radene, alle kolonnene\n",
    "\n",
    "    W = U[:, :d] #slicer de d første kolonnene, alle radene\n",
    "    \n",
    "    H = np.multiply(Σ, V_T.T).T #ganger Σ sammen med V_T.T for at dimensjoner skal gå opp, transponerer denne igjen for riktig dim\n",
    "\n",
    "\n",
    "    return W, H"
   ]
  },
  {
   "cell_type": "markdown",
   "metadata": {
    "cell_id": "a00b436a287c442db15740d4b54abc01",
    "deepnote_cell_type": "text-cell-p",
    "formattedRanges": [],
    "is_collapsed": false,
    "tags": []
   },
   "source": [
    "Truncated SVD: lær\n",
    " underrom som best approksimerer\n",
    " data."
   ]
  },
  {
   "cell_type": "markdown",
   "metadata": {
    "cell_id": "dfb8c281fecb45d48789fba718221508",
    "deepnote_cell_type": "text-cell-p",
    "formattedRanges": [],
    "is_collapsed": false,
    "tags": []
   },
   "source": [
    "\n"
   ]
  },
  {
   "cell_type": "markdown",
   "metadata": {
    "cell_id": "bdd9ee038b0c4c3bac40732950c94fe4",
    "deepnote_cell_type": "markdown",
    "tags": []
   },
   "source": [
    "For å være sikre på at trunkeringen er implementert rett i truncSVD, testes funksjonen med det oppgave 1 b), som har et kjent resultat."
   ]
  },
  {
   "cell_type": "code",
   "execution_count": 17,
   "metadata": {
    "cell_id": "3e48bf792026420a87815460b5ff420c",
    "deepnote_cell_type": "code",
    "deepnote_to_be_reexecuted": false,
    "execution_millis": 5,
    "execution_start": 1677241480442,
    "source_hash": "f8e7f359",
    "tags": []
   },
   "outputs": [
    {
     "name": "stdout",
     "output_type": "stream",
     "text": [
      "W:\n",
      "[[-0.70710678  0.        ]\n",
      " [-0.70710678  0.        ]\n",
      " [ 0.          1.        ]]\n",
      "H:\n",
      "[[-1.41421356 -0.         -0.        ]\n",
      " [ 0.          0.          1.        ]]\n",
      "Gjenskapt A₂: \n",
      "[[1. 0. 0.]\n",
      " [1. 0. 0.]\n",
      " [0. 0. 1.]]\n"
     ]
    }
   ],
   "source": [
    "# Testing with A2\n",
    "W_2, H_2 = truncSVD(U_2_red, sigma_2_red, vT_2_red, 2)\n",
    "print('W:')\n",
    "print(W_2)\n",
    "print('H:')\n",
    "print(H_2)\n",
    "print(\"Gjenskapt A\\u2082: \")\n",
    "print(np.dot(W_2, H_2)) #sjekker at de funker med å få tilbake A_2"
   ]
  },
  {
   "cell_type": "markdown",
   "metadata": {
    "cell_id": "582f2add753549bc82771a2be5770a5d",
    "deepnote_cell_type": "markdown",
    "tags": []
   },
   "source": [
    "### Oppgave 1 c)"
   ]
  },
  {
   "cell_type": "markdown",
   "metadata": {
    "cell_id": "065ec8ae2e9c425c87964332baae0d37",
    "deepnote_cell_type": "text-cell-p",
    "formattedRanges": [],
    "is_collapsed": false,
    "tags": []
   },
   "source": [
    "Å finne projeksjonen til matrise ned på en dictionary er nyttig for å finne den minste avstanden til en dictionary. Dette er igjen nyttig for å finne hvilket element den gitte matrisen ligger nærmest, for å f.eks finne hvilket tall den ligner på, som vi skal se i oppgave 2. "
   ]
  },
  {
   "cell_type": "code",
   "execution_count": 18,
   "metadata": {
    "cell_id": "a6b34ef16d454513902f1bc181772bcf",
    "deepnote_cell_type": "code",
    "deepnote_to_be_reexecuted": false,
    "execution_millis": 0,
    "execution_start": 1677241593643,
    "source_hash": "844ad39e",
    "tags": []
   },
   "outputs": [],
   "source": [
    "def orthproj(W, matrix):\n",
    "    '''\n",
    "    Input: dictionary W, matrise\n",
    "    Calculates the projection of the columns of the \n",
    "    matrix onto the dictionary \n",
    "    Output: the projection P_W\n",
    "    '''\n",
    "    h_marked = np.dot(W.T, matrix)\n",
    "    P_W = np.dot(W, h_marked)\n",
    "    \n",
    "    return P_W\n",
    "\n",
    "def dist(W, matrix):\n",
    "    '''\n",
    "    Input: dictionary W, matrix\n",
    "    Calculates the columnwise distances from the matrix to W\n",
    "    Output: the distance\n",
    "    '''\n",
    "    P_D = orthproj(W, matrix)\n",
    "    D = np.linalg.norm(matrix - P_D, axis=0)\n",
    "\n",
    "    return D"
   ]
  },
  {
   "cell_type": "code",
   "execution_count": 19,
   "metadata": {
    "cell_id": "0ae397a53b70403abf3556e2aac78024",
    "deepnote_cell_type": "code",
    "deepnote_to_be_reexecuted": false,
    "execution_millis": 9,
    "execution_start": 1677241595471,
    "source_hash": "a80fa304",
    "tags": []
   },
   "outputs": [
    {
     "name": "stdout",
     "output_type": "stream",
     "text": [
      "Projeksjon i a):\n",
      "[[2.00000000e+00 0.00000000e+00 8.32531736e-23]\n",
      " [1.00000000e+00 0.00000000e+00 1.00000000e+00]\n",
      " [0.00000000e+00 0.00000000e+00 0.00000000e+00]]\n",
      "Projeksjon i b):\n",
      "[[1.5 0.  0.5]\n",
      " [1.5 0.  0.5]\n",
      " [0.  1.  0. ]]\n",
      "Avstand fra B til W i a)\n",
      "[0.00000000e+00 1.00000000e+00 1.11022302e-16]\n",
      "Avstand fra B til W i b)\n",
      "[0.70710678 0.         0.70710678]\n"
     ]
    }
   ],
   "source": [
    "B = np.array([[2,0,0], [1,0,1], [0,1,0]])\n",
    "\n",
    "# Testing a)\n",
    "W_1, H_1 = truncSVD(U_1, sigma_1, vT_1, 2)\n",
    "P_1 = orthproj(W_1, B)\n",
    "D_1 = dist(W_1,B)\n",
    "\n",
    "# Testing b)\n",
    "W_2, H_2 = truncSVD(U_2, sigma_2, vT_2, 2)\n",
    "P_2 = orthproj(W_2, B)\n",
    "D_2 = dist(W_2,B)\n",
    "\n",
    "\n",
    "print('Projeksjon i a):')\n",
    "print(P_1)\n",
    "print('Projeksjon i b):')\n",
    "print(P_2)\n",
    "\n",
    "print('Avstand fra B til W i a)')\n",
    "print(D_1)\n",
    "print('Avstand fra B til W i b)')\n",
    "print(D_2)"
   ]
  },
  {
   "cell_type": "markdown",
   "metadata": {
    "cell_id": "fcf89957492b4078bef8a3c4c8ad175e",
    "deepnote_cell_type": "text-cell-p",
    "formattedRanges": [],
    "is_collapsed": false,
    "tags": []
   },
   "source": [
    "Projeksjonen brukes for å finne distansen i denne oppgaven. Distansen forteller oss hvilket tall verdien vår ligger nærmest. Dette er nyttig for å sende verdiene til riktige tall. (det tallet som verdien har kortest distanse til, blir den sendt til). "
   ]
  },
  {
   "cell_type": "markdown",
   "metadata": {
    "cell_id": "f241ff3c443844cca78429a2e5348818",
    "deepnote_cell_type": "markdown",
    "tags": []
   },
   "source": [
    "### Oppgave 1 d)"
   ]
  },
  {
   "cell_type": "markdown",
   "metadata": {
    "cell_id": "12978667-92e2-4fe1-9f0e-123fee3ba7c2",
    "deepnote_cell_type": "text-cell-p",
    "formattedRanges": [],
    "is_collapsed": false,
    "tags": []
   },
   "source": [
    "Det kan være en fordel å ta i bruk NMF over SVD, fordi blant annet bilder inneholder verdier som er ikke-negative. Derfor gir det mening å også regne ut ikke-negative basis vektorer, som er vist i oppgaven under. "
   ]
  },
  {
   "cell_type": "markdown",
   "metadata": {
    "cell_id": "dc78d9fc-3703-401d-9601-89e617fee316",
    "deepnote_cell_type": "text-cell-p",
    "formattedRanges": [],
    "is_collapsed": false,
    "tags": []
   },
   "source": [
    "ENMF: lær kjegler som\n",
    " best approksimerer data."
   ]
  },
  {
   "cell_type": "markdown",
   "metadata": {
    "cell_id": "328bdcafd4864d4bbf1719ef9b81c2d9",
    "deepnote_cell_type": "markdown",
    "tags": []
   },
   "source": [
    "Som i oppgave 1c) er det også nødvendig å finne en projeksjon for $H_{+}$ på $W_{+}$. Dette gjøres på samme måte, ved minste kvadraters metode. Dette kan ikke løses analytisk, og må dermed løses numerisk for å finne den beste tilnærmede verdien for den minste avstanden. Finner avstanden på samme måte som i 1c)"
   ]
  },
  {
   "cell_type": "code",
   "execution_count": 21,
   "metadata": {
    "cell_id": "0d03499215024ae1aedf8f4f7d739129",
    "deepnote_cell_type": "code",
    "deepnote_to_be_reexecuted": false,
    "execution_millis": 6,
    "execution_start": 1677241617818,
    "source_hash": "9949b3f2",
    "tags": []
   },
   "outputs": [
    {
     "name": "stdout",
     "output_type": "stream",
     "text": [
      "Projeksjonen av B på A1: \n",
      " [[2.00049675 0.         0.5       ]\n",
      " [0.99900503 0.         0.5       ]\n",
      " [0.         0.         0.        ]] \n",
      " \n",
      "Projeksjonen av B på A2: \n",
      " [[1.5 0.  0.5]\n",
      " [1.5 0.  0.5]\n",
      " [0.  1.  0. ]] \n",
      " \n",
      "Avstanden fra B til A1: \n",
      " [0.00154227 1.         0.70710678] \n",
      " \n",
      "Avstanden fra B til A2: \n",
      " [7.07106781e-01 1.00000008e-10 7.07106781e-01] \n",
      " \n"
     ]
    }
   ],
   "source": [
    "def nnproj(WPlus, matrix, maxIter, delta):\n",
    "    (m,n) = matrix.shape\n",
    "    (m,d) = WPlus.shape\n",
    "    \n",
    "    h_kplus1 = np.random.uniform(0,1,(d,n)) #lager d x n matrise med random tall\n",
    "    \n",
    "    WTA = np.dot(WPlus.T,matrix)\n",
    "    WTW = np.dot(WPlus.T,WPlus)\n",
    "    \n",
    "    for i in range(maxIter):\n",
    "        h_k = h_kplus1\n",
    "        first = np.multiply(h_k,WTA)\n",
    "        second = np.dot(WTW,h_k) + delta\n",
    "        h_kplus1 = np.divide(first,second)\n",
    "   \n",
    "    nnprojection = np.dot(WPlus, h_kplus1)\n",
    "    return nnprojection\n",
    "    \n",
    "    \n",
    "def nndist(W, matrix, maxIter, delta):\n",
    "    '''\n",
    "    Input: dictionary W, matrix\n",
    "    Calculates the columnwise distances from the matrix to W\n",
    "    Output: the distance\n",
    "    '''\n",
    "    P_D = nnproj(W, matrix, maxIter, delta)\n",
    "    D = np.linalg.norm(matrix - P_D, axis=0)\n",
    "\n",
    "    return D\n",
    "\n",
    "delta = 10**(-10)\n",
    "maxIter = 50\n",
    "\n",
    "PA1B = nnproj(A1, B, maxIter, delta)\n",
    "PA2B = nnproj(A2, B, maxIter, delta)\n",
    "DBA1 = nndist(A1,B, maxIter, delta)\n",
    "DBA2 = nndist(A2,B, maxIter, delta)\n",
    "\n",
    "print(f'Projeksjonen av B på A1: \\n {PA1B} \\n ')\n",
    "print(f'Projeksjonen av B på A2: \\n {PA2B} \\n ')\n",
    "print(f'Avstanden fra B til A1: \\n {DBA1} \\n ')\n",
    "print(f'Avstanden fra B til A2: \\n {DBA2} \\n ')\n",
    "\n"
   ]
  },
  {
   "cell_type": "markdown",
   "metadata": {
    "cell_id": "17718661b64843058e4c804ff58279cb",
    "deepnote_cell_type": "markdown",
    "tags": []
   },
   "source": [
    "Her er $\\delta$ en verdi som sørger for at vi aldri treffer null, slik at vi unngår error som \"zero division\". Den kalles \"sparsity\". "
   ]
  },
  {
   "cell_type": "markdown",
   "metadata": {
    "cell_id": "b83ff00698dc47c8b0931be9de79b182",
    "deepnote_cell_type": "text-cell-h1",
    "formattedRanges": [],
    "is_collapsed": false,
    "tags": []
   },
   "source": [
    "# Oppgave 2"
   ]
  },
  {
   "cell_type": "markdown",
   "metadata": {
    "cell_id": "f6afabf133bd4a13be04b2adc66d9025",
    "deepnote_cell_type": "text-cell-p",
    "formattedRanges": [],
    "is_collapsed": false,
    "tags": []
   },
   "source": [
    "a)"
   ]
  },
  {
   "cell_type": "code",
   "execution_count": 5,
   "metadata": {
    "cell_id": "7fe0fd8f0e054580a0dff9f6cdf07470",
    "deepnote_cell_type": "code",
    "deepnote_to_be_reexecuted": false,
    "execution_millis": 220,
    "execution_start": 1677240235404,
    "source_hash": "ffbda8d",
    "tags": []
   },
   "outputs": [
    {
     "name": "stdout",
     "output_type": "stream",
     "text": [
      "(784, 10, 5000)\n",
      "(784, 10, 800)\n"
     ]
    }
   ],
   "source": [
    "# Load the data and rescale\n",
    "train = np.load('train.npy')/255.0\n",
    "test = np.load('test.npy')/255.0\n",
    "\n",
    "# Shapes are (number of pixels, number of classes, number of data)\n",
    "print(train.shape) # Should be (784,10,5000)\n",
    "print(test.shape) # Should be (784,10,800)"
   ]
  },
  {
   "cell_type": "code",
   "execution_count": 6,
   "metadata": {
    "cell_id": "161052b7fda741a9a25a140ef6cb2a3b",
    "deepnote_cell_type": "code",
    "deepnote_to_be_reexecuted": false,
    "execution_millis": 3,
    "execution_start": 1677240238187,
    "source_hash": "1b8716fd",
    "tags": []
   },
   "outputs": [],
   "source": [
    "def plotimgs(imgs, nplot = 4):\n",
    "    \"\"\"\n",
    "    Plots the nplot*nplot first images in imgs on an nplot x nplot grid. \n",
    "    Assumes heigth = width, and that the images are stored columnwise\n",
    "    input:\n",
    "        imgs: (height*width,N) array containing images, where N > nplot**2\n",
    "        nplot: integer, nplot**2 images will be plotted\n",
    "    \"\"\"\n",
    "\n",
    "    n = imgs.shape[1]\n",
    "    m = int(np.sqrt(imgs.shape[0]))\n",
    "\n",
    "    assert(n > nplot**2), \"Need amount of data in matrix N > nplot**2\"\n",
    "\n",
    "    # Initialize subplots\n",
    "    fig, axes = plt.subplots(nplot, nplot)\n",
    "\n",
    "    # Set background color\n",
    "    plt.gcf().set_facecolor(\"lightgray\")\n",
    "\n",
    "    # Iterate over images\n",
    "    for idx in range(nplot**2):\n",
    "\n",
    "        # Break if we go out of bounds of the array\n",
    "        if idx >= n:\n",
    "            break\n",
    "\n",
    "        # Indices\n",
    "        i = idx//nplot; j = idx%nplot\n",
    "\n",
    "        # Remove axis\n",
    "        axes[i,j].axis('off')\n",
    "\n",
    "        axes[i,j].imshow(imgs[:,idx].reshape((m,m)), cmap = \"gray\")\n",
    "    \n",
    "    # Plot\n",
    "\n",
    "    fig.tight_layout()\n",
    "    plt.show()\n"
   ]
  },
  {
   "cell_type": "code",
   "execution_count": 7,
   "metadata": {
    "cell_id": "7b63fd3bba2a4669acc6c42824873149",
    "deepnote_cell_type": "code",
    "deepnote_to_be_reexecuted": false,
    "execution_millis": 686,
    "execution_start": 1677240242038,
    "source_hash": "9b1010b",
    "tags": []
   },
   "outputs": [
    {
     "data": {
      "image/png": "[encoded data removed]",
      "text/plain": [
       "<Figure size 640x480 with 16 Axes>"
      ]
     },
     "metadata": {
      "image/png": {
       "height": 470,
       "width": 569
      }
     },
     "output_type": "display_data"
    }
   ],
   "source": [
    "# Plot first 16 images of the six integer\n",
    "plotimgs(train[:,6,:], nplot = 4)"
   ]
  },
  {
   "cell_type": "markdown",
   "metadata": {
    "cell_id": "e630636cfa2e44d08e5e06a639ba8825",
    "deepnote_cell_type": "text-cell-h3",
    "formattedRanges": [],
    "is_collapsed": false,
    "tags": []
   },
   "source": [
    "### b)"
   ]
  },
  {
   "cell_type": "code",
   "execution_count": 10,
   "metadata": {
    "cell_id": "98d60fea9fd64694b3e6a429e857dc11",
    "deepnote_cell_type": "code",
    "deepnote_to_be_reexecuted": false,
    "execution_millis": 15565,
    "execution_start": 1677241066362,
    "source_hash": "3fa9c220",
    "tags": []
   },
   "outputs": [
    {
     "data": {
      "image/png": "[encoded data removed]",
      "text/plain": [
       "<Figure size 640x480 with 256 Axes>"
      ]
     },
     "metadata": {
      "image/png": {
       "height": 469,
       "width": 613
      }
     },
     "output_type": "display_data"
    },
    {
     "data": {
      "image/png": "[encoded data removed]",
      "text/plain": [
       "<Figure size 640x480 with 1 Axes>"
      ]
     },
     "metadata": {
      "image/png": {
       "height": 455,
       "width": 585
      }
     },
     "output_type": "display_data"
    }
   ],
   "source": [
    "# Regner ut SVD til bildet\n",
    "U_im, sigma_im, vT_im = np.linalg.svd(train[:,6,:], full_matrices = False)\n",
    "\n",
    "# Plotter U_d med d=16\n",
    "plotimgs(U_im, nplot = 16)\n",
    "plt.title(\"De 16 første singulær vektorene i A\")\n",
    "\n",
    "# plotter singulærverdiene fra høyeste til laveste\n",
    "plt.semilogy(sigma_im) # y-akse er logaritmisk\n",
    "plt.title(\"Signulær verdier fra høyeste til laveste\")\n",
    "plt.ylabel(\"Singulærverdier til bildet\")\n",
    "plt.xlabel(\"Antall singulærverdier\")\n",
    "plt.show()"
   ]
  },
  {
   "cell_type": "markdown",
   "metadata": {
    "cell_id": "fdbfb634-5f34-4db5-aace-02a4ede203c8",
    "deepnote_cell_type": "text-cell-p",
    "formattedRanges": [],
    "is_collapsed": false,
    "tags": []
   },
   "source": [
    "Forklaring på U_d:"
   ]
  },
  {
   "cell_type": "markdown",
   "metadata": {
    "cell_id": "c7e9e949-defc-4f46-a8bf-28c7f5fe2555",
    "deepnote_cell_type": "text-cell-p",
    "formattedRanges": [],
    "is_collapsed": false,
    "tags": []
   },
   "source": [
    "Ser at hvis man summerer opp alle verdiene i U_d, vil vi få tilbake et bilde (ser at i noen av verdiene er bildet mørkere et sted og lysere et annet, og at dette endres), så når man summerer dette sammen gir det mening at man får tilbake et opprinnelig bilde. Betyr det at U_d lagrer alle pikselverdiene i A?"
   ]
  },
  {
   "cell_type": "markdown",
   "metadata": {
    "cell_id": "59b7944c-51ad-4202-92c7-af6d323483e6",
    "deepnote_cell_type": "text-cell-p",
    "formattedRanges": [],
    "is_collapsed": false,
    "tags": []
   },
   "source": [
    "Hvert tall har en unik karakteristikk. Gradienten til disse tallene er representert som singulære veltorer. U_d i dette tilfelle beskriver altså de 16 første singulære vektorene til venstre med unik karakteristikk, som vi kan se på bildet (ulik 'shade')."
   ]
  },
  {
   "cell_type": "markdown",
   "metadata": {
    "cell_id": "17f0b530-d16f-485b-bcdf-34cdd2429ee1",
    "deepnote_cell_type": "text-cell-p",
    "formattedRanges": [],
    "is_collapsed": false,
    "tags": []
   },
   "source": [
    " Do these basis vectors capture the important features\n",
    " of the dataset?"
   ]
  },
  {
   "cell_type": "markdown",
   "metadata": {
    "cell_id": "26337116-690e-4420-85a3-3d0772645ac2",
    "deepnote_cell_type": "text-cell-p",
    "formattedRanges": [],
    "is_collapsed": false,
    "tags": []
   },
   "source": [
    "Her har vi kun plottet de 16 første vektorene, og som vi kan se i grafen under viser singulærverdiene at det er de første vektorene som er de viktigste. Da gir det mening å si at plottet viser viktige trekk ved bildet. "
   ]
  },
  {
   "cell_type": "markdown",
   "metadata": {
    "cell_id": "f632efd7-ace5-4cd2-b990-a119f9113f71",
    "deepnote_cell_type": "text-cell-p",
    "formattedRanges": [],
    "is_collapsed": false,
    "tags": []
   },
   "source": []
  },
  {
   "cell_type": "markdown",
   "metadata": {
    "cell_id": "fec39182-86bd-4a8b-9f3f-15876e924b33",
    "deepnote_cell_type": "text-cell-p",
    "formattedRanges": [],
    "is_collapsed": false,
    "tags": []
   },
   "source": [
    "Tolkning av plottet av singulærverdier:"
   ]
  },
  {
   "cell_type": "markdown",
   "metadata": {
    "cell_id": "274a9ac3-8869-48c3-a5f5-8da4f83f2f05",
    "deepnote_cell_type": "text-cell-p",
    "formattedRanges": [],
    "is_collapsed": false,
    "tags": []
   },
   "source": [
    "-Alle singulærverdiene som har verdi mellom $10^{0}$ og $10^{3}$ ser vi er omtrent like viktig. Grafen er også rangert fra viktigst til minst viktig (som vi kan se utifra hvor bratt grafen er."
   ]
  },
  {
   "cell_type": "markdown",
   "metadata": {
    "cell_id": "95f1150d-8500-4e5f-b1a2-8b79765ce949",
    "deepnote_cell_type": "text-cell-p",
    "formattedRanges": [],
    "is_collapsed": false,
    "tags": []
   },
   "source": [
    "-Singulærverdiene er lagret fra størst til minst helt til vi har kommet gjennom hele rangen til matrisen"
   ]
  },
  {
   "cell_type": "markdown",
   "metadata": {
    "cell_id": "05af5061-4a34-4290-84ea-d7205942b607",
    "deepnote_cell_type": "text-cell-p",
    "formattedRanges": [],
    "is_collapsed": false,
    "tags": []
   },
   "source": [
    "-\"Droppet\" viser skillet der verdiene plutselig blir lineært avhengige av hverandre, viser rangen til singulærverdiene. (Rang = antall lineært uavhengige kolonnevektorer i matrisen). Uinteressert i disse, de blir bare 0 (droppet på slutten igjen er bare numerisk avrunding som vi ikke trenger å tenke på). "
   ]
  },
  {
   "cell_type": "markdown",
   "metadata": {
    "cell_id": "be9f053f-b6fd-432b-ae99-fd4646587fdd",
    "deepnote_cell_type": "text-cell-p",
    "formattedRanges": [],
    "is_collapsed": false,
    "tags": []
   },
   "source": [
    "-De første verdiene ser vi er de viktigste (og største), fordi grafen er veldig bratt her. "
   ]
  },
  {
   "cell_type": "markdown",
   "metadata": {
    "created_in_deepnote_cell": true,
    "deepnote_cell_type": "markdown",
    "tags": []
   },
   "source": [
    "<a style='text-decoration:none;line-height:16px;display:flex;color:#5B5B62;padding:10px;justify-content:end;' href='https://deepnote.com?utm_source=created-in-deepnote-cell&projectId=86a364a1-ad5c-4ff6-9ac4-b47f880e3e0e' target=\"_blank\">\n",
    "<img alt='Created in deepnote.com' style='display:inline;max-height:16px;margin:0px;margin-right:7.5px;' src='data:image/svg+xml;base64,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' > </img>\n",
    "Created in <span style='font-weight:600;margin-left:4px;'>Deepnote</span></a>"
   ]
  }
 ],
 "metadata": {
  "deepnote": {},
  "deepnote_execution_queue": [],
  "deepnote_notebook_id": "c59aa52efd0542719217d8175368a201",
  "kernelspec": {
   "display_name": "Python 3 (ipykernel)",
   "language": "python",
   "name": "python3"
  },
  "language_info": {
   "codemirror_mode": {
    "name": "ipython",
    "version": 3
   },
   "file_extension": ".py",
   "mimetype": "text/x-python",
   "name": "python",
   "nbconvert_exporter": "python",
   "pygments_lexer": "ipython3",
   "version": "3.9.13"
  }
 },
 "nbformat": 4,
 "nbformat_minor": 1
}
